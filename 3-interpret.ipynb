{
 "cells": [
  {
   "cell_type": "markdown",
   "id": "infectious-digest",
   "metadata": {},
   "source": [
    "# LAB 7: Error analysis\n",
    "\n",
    "Objectives\n",
    "* Construct a  linear text classifier using SGDClassifier\n",
    "* Evaluate its performance and categorize the errors that it makes\n",
    "* Eaxmine model's coefficients and decision function values\n",
    "* Interpret model results using LIME"
   ]
  },
  {
   "cell_type": "code",
   "execution_count": 2,
   "id": "general-advertising",
   "metadata": {},
   "outputs": [],
   "source": [
    "import numpy as np\n",
    "import pandas as pd\n",
    "from cytoolz import *\n",
    "from tqdm.auto import tqdm\n",
    "\n",
    "tqdm.pandas()"
   ]
  },
  {
   "cell_type": "markdown",
   "id": "controlling-adapter",
   "metadata": {},
   "source": [
    "---\n",
    "\n",
    "## Load data"
   ]
  },
  {
   "cell_type": "code",
   "execution_count": 3,
   "id": "happy-discrimination",
   "metadata": {},
   "outputs": [],
   "source": [
    "train = pd.read_parquet(\"s3://ling583/lab7-train.parquet\", storage_options={\"anon\":True})\n",
    "test = pd.read_parquet(\"s3://ling583/lab7-test.parquet\", storage_options={\"anon\":True})"
   ]
  },
  {
   "cell_type": "code",
   "execution_count": 4,
   "id": "considerable-instruction",
   "metadata": {},
   "outputs": [],
   "source": [
    "import cloudpickle\n",
    "from sklearn.metrics import classification_report, f1_score, plot_confusion_matrix"
   ]
  },
  {
   "cell_type": "code",
   "execution_count": 5,
   "id": "alike-stockholm",
   "metadata": {},
   "outputs": [],
   "source": [
    "sgd = cloudpickle.load(open(\"sgd.model\", \"rb\"))"
   ]
  },
  {
   "cell_type": "code",
   "execution_count": 6,
   "id": "stuck-mongolia",
   "metadata": {},
   "outputs": [
    {
     "name": "stdout",
     "output_type": "stream",
     "text": [
      "              precision    recall  f1-score   support\n",
      "\n",
      "        GJOB       0.97      0.94      0.96       573\n",
      "        GPOL       0.94      0.96      0.95      1853\n",
      "        GSPO       1.00      0.99      1.00      1410\n",
      "        GVIO       0.92      0.91      0.92       928\n",
      "\n",
      "    accuracy                           0.96      4764\n",
      "   macro avg       0.96      0.95      0.96      4764\n",
      "weighted avg       0.96      0.96      0.96      4764\n",
      "\n"
     ]
    }
   ],
   "source": [
    "predicted = sgd.predict(test[\"text\"])\n",
    "print(classification_report(test[\"topics\"], predicted))"
   ]
  },
  {
   "cell_type": "markdown",
   "id": "oriented-runner",
   "metadata": {},
   "source": [
    "---\n",
    "\n",
    "## Decision function"
   ]
  },
  {
   "cell_type": "code",
   "execution_count": 7,
   "id": "grand-virtue",
   "metadata": {},
   "outputs": [],
   "source": [
    "labels = sgd.named_steps['sgdclassifier'].classes_\n",
    "scores = sgd.decision_function(test[\"text\"])"
   ]
  },
  {
   "cell_type": "code",
   "execution_count": 8,
   "id": "large-panama",
   "metadata": {},
   "outputs": [
    {
     "data": {
      "text/plain": [
       "array(['GJOB', 'GPOL', 'GSPO', 'GVIO'], dtype='<U4')"
      ]
     },
     "execution_count": 8,
     "metadata": {},
     "output_type": "execute_result"
    }
   ],
   "source": [
    "labels"
   ]
  },
  {
   "cell_type": "code",
   "execution_count": 9,
   "id": "advised-victory",
   "metadata": {},
   "outputs": [
    {
     "data": {
      "text/plain": [
       "array([-0.00450741, -0.82905066, -0.97918263, -0.94305605])"
      ]
     },
     "execution_count": 9,
     "metadata": {},
     "output_type": "execute_result"
    }
   ],
   "source": [
    "scores[0,:]\n",
    "# The first entry, looks like it was classified as GJOB since that has the highest value"
   ]
  },
  {
   "cell_type": "code",
   "execution_count": 10,
   "id": "acquired-newport",
   "metadata": {},
   "outputs": [
    {
     "data": {
      "text/plain": [
       "'GJOB'"
      ]
     },
     "execution_count": 10,
     "metadata": {},
     "output_type": "execute_result"
    }
   ],
   "source": [
    "# Lets look at what the data source has it tagged as \n",
    "test['topics'].iloc[0]"
   ]
  },
  {
   "cell_type": "code",
   "execution_count": 11,
   "id": "according-mailman",
   "metadata": {},
   "outputs": [
    {
     "data": {
      "text/plain": [
       "\"Canada's Terra Nova partners set labor agreement. A new labor agreement covering future operations at Newfoundland's Bull Arm construction site, where some work on the Terra Nova oil project is expected to be done, was completed on Monday, Terra Nova's partners said. The deal, signed by PCL Industrial Constructors Inc and the Newfoundland and Labrador Building and Construction Trades Council, will allow Bull Arm to be considered for the building of some of the oil platform's topsides. The key part of the deal was the formation of a single union representing workers at the site, the firms said.\""
      ]
     },
     "execution_count": 11,
     "metadata": {},
     "output_type": "execute_result"
    }
   ],
   "source": [
    "test['text'].iloc[0]"
   ]
  },
  {
   "cell_type": "code",
   "execution_count": 12,
   "id": "amino-minimum",
   "metadata": {},
   "outputs": [],
   "source": [
    "highest = scores.max(axis=1)"
   ]
  },
  {
   "cell_type": "code",
   "execution_count": 13,
   "id": "alive-horror",
   "metadata": {},
   "outputs": [
    {
     "data": {
      "text/plain": [
       "-0.004507405342632054"
      ]
     },
     "execution_count": 13,
     "metadata": {},
     "output_type": "execute_result"
    }
   ],
   "source": [
    "highest[0]"
   ]
  },
  {
   "cell_type": "code",
   "execution_count": 14,
   "id": "moved-feature",
   "metadata": {},
   "outputs": [
    {
     "data": {
      "text/plain": [
       "3436"
      ]
     },
     "execution_count": 14,
     "metadata": {},
     "output_type": "execute_result"
    }
   ],
   "source": [
    "# The instance that has the highest score in the whole dataset\n",
    "highest.argmax()"
   ]
  },
  {
   "cell_type": "code",
   "execution_count": 19,
   "id": "metric-copying",
   "metadata": {},
   "outputs": [
    {
     "data": {
      "text/plain": [
       "array([-2.90364538,  4.88927742, -2.49841272, -3.91232828])"
      ]
     },
     "execution_count": 19,
     "metadata": {},
     "output_type": "execute_result"
    }
   ],
   "source": [
    "# These are the scores for that highest scoring article; the most solidly in one category\n",
    "scores[3436]"
   ]
  },
  {
   "cell_type": "code",
   "execution_count": 20,
   "id": "different-exploration",
   "metadata": {},
   "outputs": [
    {
     "data": {
      "text/plain": [
       "'GPOL'"
      ]
     },
     "execution_count": 20,
     "metadata": {},
     "output_type": "execute_result"
    }
   ],
   "source": [
    "# what category was that article?\n",
    "test['topics'].iloc[3436]"
   ]
  },
  {
   "cell_type": "code",
   "execution_count": 21,
   "id": "shared-writing",
   "metadata": {},
   "outputs": [
    {
     "data": {
      "text/plain": [
       "\"FRENCH ELECTION - HOW THEY VOTE. About 39 million French voters are entitled to vote in Sunday's first round of a two-stage election to choose a new National Assembly or lower house of parliament. President Jacques Chirac used his constitutional power to dissolve the Assembly on April 21 and called a snap election, 10 months ahead of schedule, for May 25 and June 1. The president, who appoints the prime minister and cabinet, may not dissolve parliament again in the first year of a new legislature. Some 6,389 candidates are vying for the 577 seats in single-member constituencies, the Interior Ministry said. The record is 29 candidates in a single electoral district in central Paris. A candidate who wins more than 50 percent of votes cast on the first ballot is elected without a runoff. Otherwise, any candidate who polls 12.5 percent of the total of registered voters has the right to contest the second ballot. The person who wins the most votes on the runoff is elected, even if he or she does not poll 50 percent. There are 555 constituencies in metropolitan France and 22 in overseas departments and territories. In most districts, the ruling conservative RPR-UDF coalition is running a single candidate, whereas the left-wing opposition parties are contesting the poll separately but will unite behind the best-placed opposition candidate on the runoff. As a result, more conservatives than left-wingers are expected to win seats outright on the first round, but that does not mean the coalition will necessarily win the election. Voting in metropolitan France takes place from 8 a.m. (0600 GMT) to 6 p.m. (1600 GMT) in most areas and 8 p.m. (1800 GMT) in Paris and major provincial citites. The first round of voting for the two seats in French Polynesia was held on May 17. The last overseas departments to vote are in France's Caribbean and South American territories. No results, projections or exit polls may be published until the last polling stations have closed in metropolitan France. By law, no opinion polls may be published in the last week before the first round or between the two rounds. On election night, television stations broadcast usually reliable projections of the outcome in votes and forecasts of the result in seats, usually in a spread, as soon as the last polls close at 8 p.m. (1800 GMT). The parties were allotted time for election broadcasts on public radio and television between May 5 and 23. Campaign spending and individual donations to parties are limited by law. Any party which fields 50 candidates or more receives public funds proportionate to the number of votes it polls. The centre-right coalition won a landslide majority in the last parliamentary election in March 1993. The turnout was 69.2 percent. The state of the parties in the outgoing Assembly was:     RPR (Gaullists)\\t\\t\\t 258     UDF (centre-right)\\t\\t    206     Socialist party and allies\\t   63     Communist party and allies\\t   24     Other left\\t\\t\\t\\t 12     Other right\\t\\t\\t\\t13     Vacant seat\\t\\t\\t\\t 1 The upper house, the Senate, is elected indirectly by local officials and is not affected by this election. -- Paris Newsroom +331 4221 5339\""
      ]
     },
     "execution_count": 21,
     "metadata": {},
     "output_type": "execute_result"
    }
   ],
   "source": [
    "# Take a look at the text to see what made it score that high in politics\n",
    "test['text'].iloc[3436]"
   ]
  },
  {
   "cell_type": "code",
   "execution_count": 22,
   "id": "meaningful-veteran",
   "metadata": {},
   "outputs": [
    {
     "data": {
      "text/plain": [
       "1824"
      ]
     },
     "execution_count": 22,
     "metadata": {},
     "output_type": "execute_result"
    }
   ],
   "source": [
    "# find the article where the highest value within the article is the lowest for that category (GJOB, JPOL, etc)\n",
    "highest.argmin()"
   ]
  },
  {
   "cell_type": "code",
   "execution_count": 23,
   "id": "dominant-impression",
   "metadata": {},
   "outputs": [
    {
     "data": {
      "text/plain": [
       "array([-0.71236882, -0.49888033, -0.85635185, -0.61739103])"
      ]
     },
     "execution_count": 23,
     "metadata": {},
     "output_type": "execute_result"
    }
   ],
   "source": [
    "# looks like we assigned it to the GPOL category\n",
    "scores[1824]"
   ]
  },
  {
   "cell_type": "code",
   "execution_count": 24,
   "id": "engaging-installation",
   "metadata": {},
   "outputs": [
    {
     "data": {
      "text/plain": [
       "'GPOL'"
      ]
     },
     "execution_count": 24,
     "metadata": {},
     "output_type": "execute_result"
    }
   ],
   "source": [
    "# it is actually a political article\n",
    "test['topics'].iloc[1824]"
   ]
  },
  {
   "cell_type": "code",
   "execution_count": 25,
   "id": "least-detector",
   "metadata": {},
   "outputs": [
    {
     "data": {
      "text/plain": [
       "'KKK says membership is growing in the United States. The Ku Klux Klan\\'s membership drive has successfully crossed the Mason-Dixon Line and is now concentrating on building membership through the nation\\'s prison population, Klan leaders said on Saturday. Speaking before a rally in Pittsburgh, the Klan\\'s top two national officers denied that the organisation\\'s strongholds were limited to the Deep South, as typically perceived, adding that Texas was the next target for major Klan recruitment. \"That (strength limited to the South) is something the media tries to portray,\" said Jeff Berry, Imperial Wizard of the Klan. \"Indiana always has been the strongest state for the Klan. We\\'ve had rallies in Indiana where our membership numbered 300,000 strong.\" Berry, who claimed his position in the Klan was akin to being president of the United States, said membership in Indiana numbers around 8,000. He would not disclose totals from other states, but said Pennsylvania has the second-largest number of Klan members, followed by Florida. \"We have eliminated the Mason-Dixon Line,\" Berry said, referring to the historical divider between the North and South. \"A lot of people in the South support us, though. We are more welcome there than we are here.\" Brad Thompson, Grand Kladd for the Klan -- the organisation\\'s national vice president -- estimated national membership at five million. \"We have about that many seaboard to seaboard,\" Thompson said. \"We are strong in 27 states, and Texas is where we are growing the fastest ... through the prison population there and in other states. People in Texas are tired of Mexicans coming over the border and taking jobs from whites.\" Thompson said membership was also high in Indiana, Illinois, Michigan, New York and Wisconsin. Edward Johnson, 41, a black man from Charlottesville, Virginia, in Pittsburgh for the rally, said his experience was that the Klan was gaining strength north of the Mason-Dixon Line. \"I\\'ve caught more hell here than there,\" Johnson said. \"You see a lot more here than in the South. They\\'re invisible down there. Up here, they take their hoods off.\"'"
      ]
     },
     "execution_count": 25,
     "metadata": {},
     "output_type": "execute_result"
    }
   ],
   "source": [
    "test['text'].iloc[1824]"
   ]
  },
  {
   "cell_type": "code",
   "execution_count": 26,
   "id": "destroyed-realtor",
   "metadata": {},
   "outputs": [
    {
     "data": {
      "text/plain": [
       "array([[-0.00450741, -0.82905066, -0.97918263, -0.94305605],\n",
       "       [-1.52736048,  1.30122739, -1.55517604, -1.3648672 ],\n",
       "       [-1.31646513,  1.22331187, -1.55907506, -1.25159479],\n",
       "       [-1.42591414, -1.31872884,  1.64954134, -1.56118183],\n",
       "       [ 0.61588648, -0.66133191, -1.15336902, -2.22780685]])"
      ]
     },
     "execution_count": 26,
     "metadata": {},
     "output_type": "execute_result"
    }
   ],
   "source": [
    "# Each row is a single test example, columns are the 4 classes\n",
    "scores[0:5,:]"
   ]
  },
  {
   "cell_type": "code",
   "execution_count": 27,
   "id": "colored-spring",
   "metadata": {},
   "outputs": [
    {
     "data": {
      "text/plain": [
       "array([[-0.97918263, -0.94305605, -0.82905066, -0.00450741],\n",
       "       [-1.55517604, -1.52736048, -1.3648672 ,  1.30122739],\n",
       "       [-1.55907506, -1.31646513, -1.25159479,  1.22331187],\n",
       "       [-1.56118183, -1.42591414, -1.31872884,  1.64954134],\n",
       "       [-2.22780685, -1.15336902, -0.66133191,  0.61588648]])"
      ]
     },
     "execution_count": 27,
     "metadata": {},
     "output_type": "execute_result"
    }
   ],
   "source": [
    "# we want to see how close the highest and second highest scores are for each instance. Start by sorting the arrays\n",
    "# The issue here is that we lose the context of what score is associated to what category\n",
    "scores.sort(axis=1)\n",
    "scores[0:5,:]"
   ]
  },
  {
   "cell_type": "code",
   "execution_count": 28,
   "id": "attached-community",
   "metadata": {},
   "outputs": [],
   "source": [
    "# Calculate the margins for the scores, That is the difference betwen the top and second score\n",
    "margin = scores[:,3]-scores[:,2]"
   ]
  },
  {
   "cell_type": "code",
   "execution_count": 29,
   "id": "detailed-investigation",
   "metadata": {},
   "outputs": [
    {
     "data": {
      "text/plain": [
       "(7.387690146323818, 0.00539294662073464)"
      ]
     },
     "execution_count": 29,
     "metadata": {},
     "output_type": "execute_result"
    }
   ],
   "source": [
    "margin.max(), margin.min()"
   ]
  },
  {
   "cell_type": "code",
   "execution_count": 30,
   "id": "posted-education",
   "metadata": {},
   "outputs": [
    {
     "name": "stdout",
     "output_type": "stream",
     "text": [
      "              precision    recall  f1-score   support\n",
      "\n",
      "        GJOB       1.00      1.00      1.00        15\n",
      "        GPOL       1.00      1.00      1.00        62\n",
      "        GSPO       1.00      1.00      1.00         7\n",
      "        GVIO       1.00      1.00      1.00         9\n",
      "\n",
      "    accuracy                           1.00        93\n",
      "   macro avg       1.00      1.00      1.00        93\n",
      "weighted avg       1.00      1.00      1.00        93\n",
      "\n"
     ]
    }
   ],
   "source": [
    "# We just want to see those where the margin is large\n",
    "print(classification_report(test[\"topics\"][margin > 5], predicted[margin > 5]))\n",
    "\n",
    "# When the margin is large, we are 100% confident in our classification decision, but we only have 93 instances there. "
   ]
  },
  {
   "cell_type": "code",
   "execution_count": 31,
   "id": "worldwide-community",
   "metadata": {},
   "outputs": [],
   "source": [
    "import matplotlib.pyplot as plt"
   ]
  },
  {
   "cell_type": "code",
   "execution_count": 32,
   "id": "figured-likelihood",
   "metadata": {},
   "outputs": [
    {
     "data": {
      "text/plain": [
       "Text(0, 0.5, 'F1')"
      ]
     },
     "execution_count": 32,
     "metadata": {},
     "output_type": "execute_result"
    },
    {
     "data": {
      "image/png": "[encoded data removed]",
      "text/plain": [
       "<Figure size 432x288 with 1 Axes>"
      ]
     },
     "metadata": {
      "needs_background": "light"
     },
     "output_type": "display_data"
    }
   ],
   "source": [
    "thresh = np.linspace(-2, 3, 50)\n",
    "x = [100*(1-sum(margin > t)/len(margin)) for t in thresh]\n",
    "y = [f1_score(test[\"topics\"][margin > t], predicted[margin > t], average=\"macro\") for t in thresh]\n",
    "plt.plot(x, y)\n",
    "plt.xlabel('% Unknowns')\n",
    "plt.ylabel('F1')"
   ]
  },
  {
   "cell_type": "code",
   "execution_count": 33,
   "id": "willing-intersection",
   "metadata": {},
   "outputs": [
    {
     "name": "stdout",
     "output_type": "stream",
     "text": [
      "              precision    recall  f1-score   support\n",
      "\n",
      "        GJOB       1.00      0.99      0.99       425\n",
      "        GPOL       0.99      0.99      0.99      1424\n",
      "        GSPO       1.00      1.00      1.00      1297\n",
      "        GVIO       0.98      0.99      0.98       626\n",
      "\n",
      "    accuracy                           0.99      3772\n",
      "   macro avg       0.99      0.99      0.99      3772\n",
      "weighted avg       0.99      0.99      0.99      3772\n",
      "\n"
     ]
    }
   ],
   "source": [
    "print(classification_report(test[\"topics\"][margin > 1.75], predicted[margin > 1.75]))"
   ]
  },
  {
   "cell_type": "markdown",
   "id": "raised-uganda",
   "metadata": {},
   "source": [
    "**TO DO:** Summarize your results for this section. What could we do if we wanted to make label as many examples as possible while still keeping F1 above 0.99?"
   ]
  },
  {
   "cell_type": "markdown",
   "id": "genuine-forwarding",
   "metadata": {},
   "source": [
    "The article that had the highest category score in this model conveniently had very low scores for the other 3 categories with a margin of about 7.79. When keeping only those articles with a margin greater than 5, there was an accuracy of 100% but we only return 93 articles or about 1.9% of all articles. When dropping the margin to 1.75, that netted us 3772 articles or about 79% of the total while keeping 99% accuracy.\n",
    "\n",
    "If we wanted to keep our F1 above 99% while maximizing our supporting articles, we could adjust the minimum margin required until it meets our needs. GVIO is the category that gives us the most trouble with this, thus pushing our minimum margin higher and our supporting articles lower. At minimum margin 2.2, all categories are at 1.00 F1 score except for GVIO which is at 0.99. GVIO doesn't reach F1 1.00 until minimum margin of 4.0. \n",
    "\n",
    "With the minimum margin at 2.2 we get 3145 supporting articles while at 4.0 (which we need in order to get GVIO to F1 1.00) we only get 482 articles."
   ]
  },
  {
   "cell_type": "code",
   "execution_count": 64,
   "id": "thorough-publisher",
   "metadata": {},
   "outputs": [
    {
     "name": "stdout",
     "output_type": "stream",
     "text": [
      "margin > 2.2\n",
      "               precision    recall  f1-score   support\n",
      "\n",
      "        GJOB       1.00      1.00      1.00       351\n",
      "        GPOL       1.00      1.00      1.00      1209\n",
      "        GSPO       1.00      1.00      1.00      1084\n",
      "        GVIO       0.99      0.99      0.99       501\n",
      "\n",
      "    accuracy                           1.00      3145\n",
      "   macro avg       1.00      1.00      1.00      3145\n",
      "weighted avg       1.00      1.00      1.00      3145\n",
      "\n",
      "\n",
      "margin > 3.9\n",
      "               precision    recall  f1-score   support\n",
      "\n",
      "        GJOB       1.00      1.00      1.00        67\n",
      "        GPOL       0.99      1.00      1.00       332\n",
      "        GSPO       1.00      1.00      1.00        67\n",
      "        GVIO       1.00      0.98      0.99        90\n",
      "\n",
      "    accuracy                           1.00       556\n",
      "   macro avg       1.00      0.99      1.00       556\n",
      "weighted avg       1.00      1.00      1.00       556\n",
      "\n",
      "\n",
      "margin > 4.0\n",
      "               precision    recall  f1-score   support\n",
      "\n",
      "        GJOB       1.00      1.00      1.00        58\n",
      "        GPOL       1.00      1.00      1.00       295\n",
      "        GSPO       1.00      1.00      1.00        57\n",
      "        GVIO       1.00      1.00      1.00        72\n",
      "\n",
      "    accuracy                           1.00       482\n",
      "   macro avg       1.00      1.00      1.00       482\n",
      "weighted avg       1.00      1.00      1.00       482\n",
      "\n"
     ]
    }
   ],
   "source": [
    "print(\"margin > 2.2\\n\", classification_report(test[\"topics\"][margin > 2.2], predicted[margin > 2.2])) # optimal for all but GVIO\n",
    "print()\n",
    "print(\"margin > 3.9\\n\",classification_report(test[\"topics\"][margin > 3.9], predicted[margin > 3.9])) # to show that GVIO is still at 0.99\n",
    "print()\n",
    "print(\"margin > 4.0\\n\",classification_report(test[\"topics\"][margin > 4], predicted[margin > 4])) # optimal for all categories"
   ]
  },
  {
   "cell_type": "markdown",
   "id": "collaborative-worker",
   "metadata": {},
   "source": [
    "---\n",
    "\n",
    "## Model parameters"
   ]
  },
  {
   "cell_type": "code",
   "execution_count": 65,
   "id": "collective-george",
   "metadata": {},
   "outputs": [
    {
     "data": {
      "text/plain": [
       "(array(['GJOB', 'GPOL', 'GSPO', 'GVIO'], dtype='<U4'),\n",
       " array([[-0.25214425, -0.02430108,  0.12891282, ...,  0.        ,\n",
       "         -0.00314414, -0.01129438],\n",
       "        [ 0.29372241, -0.11145409, -0.04951688, ...,  0.        ,\n",
       "          0.        ,  0.00798656],\n",
       "        [ 0.1211969 ,  0.04325198,  0.04356682, ...,  0.        ,\n",
       "          0.        ,  0.        ],\n",
       "        [-0.33690344,  0.        ,  0.06254737, ...,  0.        ,\n",
       "          0.        , -0.01437185]]))"
      ]
     },
     "execution_count": 65,
     "metadata": {},
     "output_type": "execute_result"
    }
   ],
   "source": [
    "coef = sgd.named_steps['sgdclassifier'].coef_\n",
    "labels, coef"
   ]
  },
  {
   "cell_type": "code",
   "execution_count": 66,
   "id": "monetary-principle",
   "metadata": {},
   "outputs": [
    {
     "data": {
      "text/plain": [
       "(4, 27939)"
      ]
     },
     "execution_count": 66,
     "metadata": {},
     "output_type": "execute_result"
    }
   ],
   "source": [
    "coef.shape"
   ]
  },
  {
   "cell_type": "code",
   "execution_count": 67,
   "id": "stupid-nashville",
   "metadata": {},
   "outputs": [],
   "source": [
    "vocab = sgd.named_steps['countvectorizer'].get_feature_names()"
   ]
  },
  {
   "cell_type": "code",
   "execution_count": 68,
   "id": "stunning-gregory",
   "metadata": {},
   "outputs": [
    {
     "data": {
      "text/plain": [
       "13100"
      ]
     },
     "execution_count": 68,
     "metadata": {},
     "output_type": "execute_result"
    }
   ],
   "source": [
    "# GJOB\n",
    "coef[0,:].argmax()"
   ]
  },
  {
   "cell_type": "code",
   "execution_count": 69,
   "id": "progressive-wings",
   "metadata": {},
   "outputs": [
    {
     "data": {
      "text/plain": [
       "4.522631071356675"
      ]
     },
     "execution_count": 69,
     "metadata": {},
     "output_type": "execute_result"
    }
   ],
   "source": [
    "coef[0,13100]"
   ]
  },
  {
   "cell_type": "code",
   "execution_count": 70,
   "id": "advance-paste",
   "metadata": {},
   "outputs": [
    {
     "data": {
      "text/plain": [
       "'jobs'"
      ]
     },
     "execution_count": 70,
     "metadata": {},
     "output_type": "execute_result"
    }
   ],
   "source": [
    "vocab[13100]"
   ]
  },
  {
   "cell_type": "markdown",
   "id": "varied-clock",
   "metadata": {},
   "source": [
    "This means that for the GJOB category, each occurance of the word \"jobs\" gives a weight of 4.522631071356675"
   ]
  },
  {
   "cell_type": "code",
   "execution_count": 71,
   "id": "manufactured-redhead",
   "metadata": {},
   "outputs": [
    {
     "name": "stdout",
     "output_type": "stream",
     "text": [
      "GJOB\n",
      "  jobs             4.523\n",
      "  strike           4.312\n",
      "  employees        3.807\n",
      "  workers          3.733\n",
      "  unemployment     3.712\n",
      "  company          2.720\n",
      "  union            2.695\n",
      "  unions           2.550\n",
      "  wage             2.441\n",
      "  wages            2.425\n",
      "  welfare         -0.984\n",
      "  political       -1.006\n",
      "  parliament      -1.007\n",
      "  war             -1.085\n",
      "  clinton         -1.115\n",
      "  spending        -1.133\n",
      "  tax             -1.198\n",
      "  security        -1.299\n",
      "  budget          -1.478\n",
      "  election        -1.737\n",
      "\n",
      "GPOL\n",
      "  election         3.793\n",
      "  party            3.154\n",
      "  elections        2.961\n",
      "  parliament       2.813\n",
      "  minister         2.794\n",
      "  president        2.590\n",
      "  vote             2.465\n",
      "  budget           2.212\n",
      "  clinton          2.042\n",
      "  yeltsin          1.950\n",
      "  rebels          -2.148\n",
      "  company         -2.170\n",
      "  bombing         -2.227\n",
      "  strike          -2.471\n",
      "  unions          -2.561\n",
      "  employees       -2.612\n",
      "  soccer          -2.715\n",
      "  protest         -2.967\n",
      "  workers         -3.146\n",
      "  unemployment    -3.319\n",
      "\n",
      "GSPO\n",
      "  soccer           3.908\n",
      "  club             2.367\n",
      "  match            2.324\n",
      "  cup              2.315\n",
      "  olympic          2.126\n",
      "  racing           1.968\n",
      "  league           1.894\n",
      "  games            1.880\n",
      "  cricket          1.873\n",
      "  team             1.871\n",
      "  company         -1.069\n",
      "  state           -1.159\n",
      "  election        -1.162\n",
      "  labor           -1.217\n",
      "  president       -1.261\n",
      "  government      -1.273\n",
      "  percent         -1.351\n",
      "  clinton         -1.365\n",
      "  party           -1.380\n",
      "  newsroom        -1.399\n",
      "\n",
      "GVIO\n",
      "  rebels           2.634\n",
      "  bombing          2.610\n",
      "  bomb             2.596\n",
      "  peace            2.310\n",
      "  troops           2.305\n",
      "  protest          2.216\n",
      "  police           2.214\n",
      "  attack           2.133\n",
      "  zaire            2.127\n",
      "  killed           2.102\n",
      "  president       -1.277\n",
      "  his             -1.335\n",
      "  fans            -1.352\n",
      "  soccer          -1.467\n",
      "  party           -1.498\n",
      "  minister        -1.522\n",
      "  parliament      -1.585\n",
      "  strike          -2.011\n",
      "  vote            -2.073\n",
      "  election        -2.083\n",
      "\n"
     ]
    }
   ],
   "source": [
    "ranked = np.argsort(coef, axis=1)\n",
    "for i, label in enumerate(labels):\n",
    "    print(label)\n",
    "    for j in concat([range(-1, -11, -1), range(10, 0, -1)]):\n",
    "        print(f'  {vocab[ranked[i,j]]:15s} {coef[i, ranked[i,j]]:6.3f}')\n",
    "    print()"
   ]
  },
  {
   "cell_type": "code",
   "execution_count": 72,
   "id": "gothic-boards",
   "metadata": {},
   "outputs": [],
   "source": [
    "from kwic import kwic"
   ]
  },
  {
   "cell_type": "code",
   "execution_count": 73,
   "id": "acquired-michael",
   "metadata": {},
   "outputs": [
    {
     "data": {
      "text/html": [
       "<table><tr><td>4</td>                      <td style=\"text-align:right;white-space:nowrap\">l Amendment would appear on the state ballot next year. ((-- San Francisco </td>                      <td style=\"text-align:center;white-space:nowrap\">newsroom</td>                      <td style=\"text-align:left;white-space:nowrap\">, 415-677-2511))                                                           </td></tr><tr><td>5</td>                      <td style=\"text-align:right;white-space:nowrap\">be called but it need not necessarily result in a work stoppage. -- Warsaw </td>                      <td style=\"text-align:center;white-space:nowrap\">Newsroom</td>                      <td style=\"text-align:left;white-space:nowrap\"> +48 22 653 9700                                                           </td></tr><tr><td>14</td>                      <td style=\"text-align:right;white-space:nowrap\">0 tonnes) and wheat ship (9,125 tonnes) --Caroline Bulloch, Rio de Janeiro </td>                      <td style=\"text-align:center;white-space:nowrap\">newsroom</td>                      <td style=\"text-align:left;white-space:nowrap\">, 5521 5074151                                                             </td></tr><tr><td>15</td>                      <td style=\"text-align:right;white-space:nowrap\"> the top tax rate and proposed taxes on night- and holiday shifts. -- Bonn </td>                      <td style=\"text-align:center;white-space:nowrap\">newsroom</td>                      <td style=\"text-align:left;white-space:nowrap\">, 49-228-26097150                                                          </td></tr><tr><td>21</td>                      <td style=\"text-align:right;white-space:nowrap\">t had so far sought to put the new law into effect. --Mark John, Frankfurt </td>                      <td style=\"text-align:center;white-space:nowrap\">Newsroom</td>                      <td style=\"text-align:left;white-space:nowrap\"> +49 69 756525                                                             </td></tr><tr><td>37</td>                      <td style=\"text-align:right;white-space:nowrap\">p of the conservative New Democracy party. --Dimitris Kontogiannis, Athens </td>                      <td style=\"text-align:center;white-space:nowrap\">Newsroom</td>                      <td style=\"text-align:left;white-space:nowrap\"> +301 3311812-4                                                            </td></tr><tr><td>52</td>                      <td style=\"text-align:right;white-space:nowrap\"> saying they would vote compared to 64.6 percent of CSSD voters. -- Prague </td>                      <td style=\"text-align:center;white-space:nowrap\">Newsroom</td>                      <td style=\"text-align:left;white-space:nowrap\"> 42-2-2423-0003                                                            </td></tr><tr><td>56</td>                      <td style=\"text-align:right;white-space:nowrap\">nment and a widepread perception that bureaucrats were corrupt. -- Vilnius </td>                      <td style=\"text-align:center;white-space:nowrap\">newsroom</td>                      <td style=\"text-align:left;white-space:nowrap\">, +370 2 22 35 17                                                          </td></tr><tr><td>76</td>                      <td style=\"text-align:right;white-space:nowrap\">on on the person likely to replace Malakis. --George Georgiopoulos, Athens </td>                      <td style=\"text-align:center;white-space:nowrap\">Newsroom</td>                      <td style=\"text-align:left;white-space:nowrap\"> +301 3311812-4                                                            </td></tr><tr><td>83</td>                      <td style=\"text-align:right;white-space:nowrap\"> A promise without a cost is nearly always a lie.\" -- Mike Peacock, London </td>                      <td style=\"text-align:center;white-space:nowrap\">Newsroom</td>                      <td style=\"text-align:left;white-space:nowrap\"> +44 171 542 5109                                                          </td></tr></table>"
      ],
      "text/plain": [
       "<IPython.core.display.HTML object>"
      ]
     },
     "metadata": {},
     "output_type": "display_data"
    }
   ],
   "source": [
    "kwic('newsroom', train['text'])"
   ]
  },
  {
   "cell_type": "code",
   "execution_count": 74,
   "id": "western-valley",
   "metadata": {},
   "outputs": [
    {
     "data": {
      "text/html": [
       "<table><tr><td>32</td>                      <td style=\"text-align:right;white-space:nowrap\">rebels assure mining firms of continuity. Rebels on the advance in eastern </td>                      <td style=\"text-align:center;white-space:nowrap\">Zaire</td>                      <td style=\"text-align:left;white-space:nowrap\"> will leave mining concessions untouched in the areas they control, provide</td></tr><tr><td>33</td>                      <td style=\"text-align:right;white-space:nowrap\">                                                   Kabila, Mobutu agree to </td>                      <td style=\"text-align:center;white-space:nowrap\">Zaire</td>                      <td style=\"text-align:left;white-space:nowrap\"> talks Wednesday - UN. Zaire's beleaguered president Mobutu Sese Seko and r</td></tr><tr><td>33</td>                      <td style=\"text-align:right;white-space:nowrap\">                       Kabila, Mobutu agree to Zaire talks Wednesday - UN. </td>                      <td style=\"text-align:center;white-space:nowrap\">Zaire</td>                      <td style=\"text-align:left;white-space:nowrap\">'s beleaguered president Mobutu Sese Seko and rebel leader Laurent Kabila h</td></tr><tr><td>33</td>                      <td style=\"text-align:right;white-space:nowrap\">rt of a South African attempt to mediate a peaceful transition of power in </td>                      <td style=\"text-align:center;white-space:nowrap\">Zaire</td>                      <td style=\"text-align:left;white-space:nowrap\">. Kabila's rebels now control three quarters of the country and Mobutu has </td></tr><tr><td>38</td>                      <td style=\"text-align:right;white-space:nowrap\">ops who were trapped at the airport and had threatening to rain rockets on </td>                      <td style=\"text-align:center;white-space:nowrap\">Zaire</td>                      <td style=\"text-align:left;white-space:nowrap\">'s second city. A day after the rebel takeover, residents looted army premi</td></tr><tr><td>38</td>                      <td style=\"text-align:right;white-space:nowrap\"> in on from all sides. Disciplined columns of Kabila's forces marched into </td>                      <td style=\"text-align:center;white-space:nowrap\">Zaire</td>                      <td style=\"text-align:left;white-space:nowrap\">'s copper capital and economic powerhouse on Wednesday morning. The army la</td></tr><tr><td>86</td>                      <td style=\"text-align:right;white-space:nowrap\">                                                          S.Africa to host </td>                      <td style=\"text-align:center;white-space:nowrap\">Zaire</td>                      <td style=\"text-align:left;white-space:nowrap\"> government, rebels for talks. Zaire's warring sides have asked President N</td></tr><tr><td>86</td>                      <td style=\"text-align:right;white-space:nowrap\">                      S.Africa to host Zaire government, rebels for talks. </td>                      <td style=\"text-align:center;white-space:nowrap\">Zaire</td>                      <td style=\"text-align:left;white-space:nowrap\">'s warring sides have asked President Nelson Mandela of South Africa to hos</td></tr><tr><td>86</td>                      <td style=\"text-align:right;white-space:nowrap\">s,\" Mandela said. He said South Africa would send air transport to pick up </td>                      <td style=\"text-align:center;white-space:nowrap\">Zaire</td>                      <td style=\"text-align:left;white-space:nowrap\">'s rebel leader Laurent Kabila from Kigali in Rwanda and that he hoped the </td></tr><tr><td>86</td>                      <td style=\"text-align:right;white-space:nowrap\">s in Cape Town with regional leaders on how to defuse growing conflicts in </td>                      <td style=\"text-align:center;white-space:nowrap\">Zaire</td>                      <td style=\"text-align:left;white-space:nowrap\"> and in southern Africa. Fighting in Zaire has intensified, with ailing Pre</td></tr></table>"
      ],
      "text/plain": [
       "<IPython.core.display.HTML object>"
      ]
     },
     "metadata": {},
     "output_type": "display_data"
    }
   ],
   "source": [
    "kwic('zaire', train['text'])"
   ]
  },
  {
   "cell_type": "markdown",
   "id": "involved-merchandise",
   "metadata": {},
   "source": [
    "**TO DO:** What can you conclude about the model from looking at the coefficients? Is there evidence of overfitting? How could we improve the results?"
   ]
  },
  {
   "cell_type": "markdown",
   "id": "likely-discretion",
   "metadata": {},
   "source": [
    "For the most part, the coefficients make sense given the categories they are in and the values that they carry. A few curious ones stood out to me. The first is that 'union' and 'unions' are assigned different values though they mean basically the same thing in the political context where they are used. Another is that in the political category, 'protest' carries a negative value, where one would assume that protests are inherently political. Also, in the violence/war category, 'strike' has a very negative score even though in most modern war articles, strike is a very common term. Perhaps these are simply due to the age of the dataset. In the same vein as those terms possibly being a product of the article's times, as mentioned in the video, 'Clinton', 'Yeltsin', and 'Zaire' all appear in the categories as a product of the events occuring around the time of the articles writing and are not due the inherent properties of those names."
   ]
  },
  {
   "cell_type": "code",
   "execution_count": null,
   "id": "touched-collaboration",
   "metadata": {},
   "outputs": [],
   "source": []
  }
 ],
 "metadata": {
  "kernelspec": {
   "display_name": "Python 3",
   "language": "python",
   "name": "python3"
  },
  "language_info": {
   "codemirror_mode": {
    "name": "ipython",
    "version": 3
   },
   "file_extension": ".py",
   "mimetype": "text/x-python",
   "name": "python",
   "nbconvert_exporter": "python",
   "pygments_lexer": "ipython3",
   "version": "3.8.6"
  }
 },
 "nbformat": 4,
 "nbformat_minor": 5
}
